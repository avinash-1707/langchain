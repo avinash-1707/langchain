{
 "cells": [
  {
   "cell_type": "code",
   "execution_count": 2,
   "id": "247bef49",
   "metadata": {},
   "outputs": [],
   "source": [
    "import os\n",
    "from dotenv import load_dotenv\n",
    "load_dotenv()\n",
    "\n",
    "groq_api_key = os.getenv(\"GROQ_API_KEY\")"
   ]
  },
  {
   "cell_type": "code",
   "execution_count": 3,
   "id": "3c2f3c3d",
   "metadata": {},
   "outputs": [
    {
     "data": {
      "text/plain": [
       "ChatGroq(client=<groq.resources.chat.completions.Completions object at 0x00000184C4D4F100>, async_client=<groq.resources.chat.completions.AsyncCompletions object at 0x00000184C4D81630>, model_name='Compound-Beta-Mini', model_kwargs={}, groq_api_key=SecretStr('**********'))"
      ]
     },
     "execution_count": 3,
     "metadata": {},
     "output_type": "execute_result"
    }
   ],
   "source": [
    "from langchain_groq import ChatGroq\n",
    "model = ChatGroq(model=\"Compound-Beta-Mini\",api_key=groq_api_key)\n",
    "model"
   ]
  },
  {
   "cell_type": "code",
   "execution_count": 9,
   "id": "405fb327",
   "metadata": {},
   "outputs": [
    {
     "name": "stdout",
     "output_type": "stream",
     "text": [
      "Hallo, ich liebe dich.\n"
     ]
    }
   ],
   "source": [
    "from langchain_core.messages import HumanMessage,SystemMessage\n",
    "from langchain_core.output_parsers import StrOutputParser\n",
    "output_parser=StrOutputParser()\n",
    "\n",
    "messages = [\n",
    "    SystemMessage(\"Translate the following sentence from English to German\"),\n",
    "    HumanMessage(\"Hello I love you\")\n",
    "]\n",
    "\n",
    "chain = model | output_parser\n",
    "\n",
    "result = chain.invoke(messages)\n",
    "print(result)"
   ]
  },
  {
   "cell_type": "code",
   "execution_count": 26,
   "id": "1b8dc59d",
   "metadata": {},
   "outputs": [],
   "source": [
    "# Prompt Template\n",
    "from langchain_core.prompts import ChatPromptTemplate\n",
    "\n",
    "generic_template = \"You are a language translator whose job is to convert the user given sentence into the asked language. Just give the clear translation. You dont have to repeat yourself or anything.\"\n",
    "\n",
    "prompt = ChatPromptTemplate.from_messages(\n",
    "    [\n",
    "        (\"system\",generic_template),\n",
    "        (\"user\",\"Convert the sentence '{text}' into {language} language\")\n",
    "    ]\n",
    ")"
   ]
  },
  {
   "cell_type": "code",
   "execution_count": 12,
   "id": "fab50b7a",
   "metadata": {},
   "outputs": [],
   "source": [
    "res = prompt.invoke({\n",
    "    \"language\":\"French\",\n",
    "    \"text\":\"What the fuck is going on ?\"\n",
    "})"
   ]
  },
  {
   "cell_type": "code",
   "execution_count": 14,
   "id": "2647f474",
   "metadata": {},
   "outputs": [
    {
     "data": {
      "text/plain": [
       "[SystemMessage(content='Translate the following into French', additional_kwargs={}, response_metadata={}),\n",
       " HumanMessage(content='What the fuck is going on ?', additional_kwargs={}, response_metadata={})]"
      ]
     },
     "execution_count": 14,
     "metadata": {},
     "output_type": "execute_result"
    }
   ],
   "source": [
    "res.to_messages()"
   ]
  },
  {
   "cell_type": "code",
   "execution_count": 27,
   "id": "54b09592",
   "metadata": {},
   "outputs": [
    {
     "name": "stdout",
     "output_type": "stream",
     "text": [
      "नमस्ते, आप कैसे हैं\n"
     ]
    }
   ],
   "source": [
    "chain = prompt | model | output_parser\n",
    "print(chain.invoke(\n",
    "    {\"language\":\"Hindi\",\n",
    "    \"text\":\"Hi, how are you\"}\n",
    "))"
   ]
  },
  {
   "cell_type": "code",
   "execution_count": null,
   "id": "cd4769a5",
   "metadata": {},
   "outputs": [],
   "source": []
  }
 ],
 "metadata": {
  "kernelspec": {
   "display_name": "Python 3",
   "language": "python",
   "name": "python3"
  },
  "language_info": {
   "codemirror_mode": {
    "name": "ipython",
    "version": 3
   },
   "file_extension": ".py",
   "mimetype": "text/x-python",
   "name": "python",
   "nbconvert_exporter": "python",
   "pygments_lexer": "ipython3",
   "version": "3.10.0"
  }
 },
 "nbformat": 4,
 "nbformat_minor": 5
}
